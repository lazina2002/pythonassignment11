{
  "nbformat": 4,
  "nbformat_minor": 0,
  "metadata": {
    "colab": {
      "provenance": []
    },
    "kernelspec": {
      "name": "python3",
      "display_name": "Python 3"
    },
    "language_info": {
      "name": "python"
    }
  },
  "cells": [
    {
      "cell_type": "markdown",
      "source": [
        "   THEORATICAL QUESTION:\n",
        "\n",
        "1.What is python and why is popular?\n",
        "- python is a high level programming language,python is used to perform many task like web development,data science,machine learning,software testing.\n",
        "python language has a lot of feature which makes it popular  like open source ,readility ,oops concept,easy to understand and many more.\n",
        "2.what is an interpreter in python?\n",
        "- a interpreter in python is the computer program that translate the source code into bytecode.\n",
        "3.what are pre-defined keywords in python?\n",
        "- keyword are the predefined sets of reserved word  in python that are used to perform some\n",
        " specific tasks .these words are case sentive and cannot be used as variable names.\n",
        "4.can keywords be used as variable names ?\n",
        "-  No,keyword cannot be used as variable names ,because keywords are set of reserved words for special tasks.\n",
        "5.what is mutability in python?\n",
        "- mutability means making changes in object after they are created .in python list are mutable beacuse list can change.\n",
        "6.why list are mutable but tuples are immutable in python?\n",
        "- list are mutable and tuples are immutable because,list can modified by making changes after creating but on the other hand tuples cannot be modified after creating it.\n",
        "\n",
        "7.what is the difference between == and is operators?\n",
        "- == operator is used to compare two object to see whether the object is equal or not on the other hand is operator is an identity operator which is used to compare two object on the basis of identity.\n",
        "8.what are logical operators in python?\n",
        "- logicals  operators those operator which are used to perform logicals operation on booleans value which are either true or false.\n",
        "9.what is type casting in python?\n",
        "- in python type casting is defined as type conversion which is used to convert one data type into another data type.\n",
        "10.what is difference between implicit and explicit type casting in python?\n",
        "- type casting is way to convert variable from one data type to another data type to perform some operation .there are two type of type casting\n",
        "- implicit type casting:in this type of type casting the variable conversion is done automatically .no user involvememt is needed\n",
        "- explicit type casting: in this method .user involvement is neede to convert one data type into another tpye casting.\n",
        "11.what is the purpose if conditional statements in python?\n",
        "- conditional statement are used to control the flow of program .conditional statement are if ,if else,elif.conditional statement are used when there are more than one condition.\n",
        "12.how does elif statement work?\n",
        "- in python elif statement is short form for else if.in this when one condition is not true then the condition will be checked .\n",
        "13.what is the difference between for and while loops?\n",
        "- for loop is used to iterate over a sequence of item such as list list ,string ,tuple whereas while loop to repeatedly a block of statements while a conditon is true .the loop will coninue to execute untill the condition is true.\n",
        "14.describe a scenario where while loop is more suitable than for loop.\n",
        "- when we are not aware of number of time a loop will run then while loop is used ."
      ],
      "metadata": {
        "id": "VxMUL6pxz-Rh"
      }
    },
    {
      "cell_type": "code",
      "source": [
        "#Write a python program to print \"hello,world\"\n",
        "a=\"hello,world\"\n",
        "print(a)"
      ],
      "metadata": {
        "colab": {
          "base_uri": "https://localhost:8080/"
        },
        "id": "G0hhxSSKeeC-",
        "outputId": "501d07fc-7ebe-423a-d43a-503ce9bb3cc6"
      },
      "execution_count": null,
      "outputs": [
        {
          "output_type": "stream",
          "name": "stdout",
          "text": [
            "hello,world\n"
          ]
        }
      ]
    },
    {
      "cell_type": "code",
      "source": [
        "#write a program that display your and age\n",
        "name=input(\"enter your name\")\n",
        "age=int(input(\"enter your age\"))\n",
        "print(\"my name is\",name,\"and my age is\",age)\n"
      ],
      "metadata": {
        "colab": {
          "base_uri": "https://localhost:8080/"
        },
        "id": "8SROAs9pftPs",
        "outputId": "2e08080c-be88-4e20-b706-8fce2258a27b"
      },
      "execution_count": null,
      "outputs": [
        {
          "output_type": "stream",
          "name": "stdout",
          "text": [
            "enter your namelazina\n",
            "enter your age21\n",
            "my name is lazina and my age is 21\n"
          ]
        }
      ]
    },
    {
      "cell_type": "markdown",
      "source": [],
      "metadata": {
        "id": "LrFUIRyL6B4P"
      }
    },
    {
      "cell_type": "code",
      "source": [
        "#Write code to print all the pre-defined keywords in Python using the keyword library\n",
        "import keyword\n",
        "a=keyword.kwlist\n",
        "print(a)"
      ],
      "metadata": {
        "colab": {
          "base_uri": "https://localhost:8080/"
        },
        "id": "gu-CVJRmgxOO",
        "outputId": "855516f3-4eef-4664-9d64-7186bb86520b"
      },
      "execution_count": null,
      "outputs": [
        {
          "output_type": "stream",
          "name": "stdout",
          "text": [
            "['False', 'None', 'True', 'and', 'as', 'assert', 'async', 'await', 'break', 'class', 'continue', 'def', 'del', 'elif', 'else', 'except', 'finally', 'for', 'from', 'global', 'if', 'import', 'in', 'is', 'lambda', 'nonlocal', 'not', 'or', 'pass', 'raise', 'return', 'try', 'while', 'with', 'yield']\n"
          ]
        }
      ]
    },
    {
      "cell_type": "code",
      "source": [
        "#Write a program that checks if a given word is a Python keyword\n",
        "import keyword\n",
        "a=input(\"enter a word \")\n",
        "if keyword.iskeyword(a):\n",
        "  print(a,\"is a keyword \")\n",
        "else:\n",
        "  print(a,\"is not a keyword \")\n"
      ],
      "metadata": {
        "colab": {
          "base_uri": "https://localhost:8080/"
        },
        "id": "g79V_ZuyhhDj",
        "outputId": "df93c431-49f3-465c-a8d0-2751a8e2b98f"
      },
      "execution_count": null,
      "outputs": [
        {
          "output_type": "stream",
          "name": "stdout",
          "text": [
            "enter a word import\n",
            "import is a keyword \n"
          ]
        }
      ]
    },
    {
      "cell_type": "code",
      "source": [
        "#Create a list and tuple in Python and demonstrate how attempting to change an element works differently\n",
        "#for each\n",
        "my_list=[1,2,3,4,5,6]\n",
        "my_tuple=(1,2,3,4,5,6)\n",
        "my_list[0]=10\n",
        "print(my_list)\n",
        "my_tuple[0]=10\n",
        "print(my_tuple)\n"
      ],
      "metadata": {
        "colab": {
          "base_uri": "https://localhost:8080/",
          "height": 211
        },
        "id": "bye-n_U2m5Ao",
        "outputId": "a8995f0c-1c6e-4490-f6fa-82cf0be103ea"
      },
      "execution_count": null,
      "outputs": [
        {
          "output_type": "stream",
          "name": "stdout",
          "text": [
            "[10, 2, 3, 4, 5, 6]\n"
          ]
        },
        {
          "output_type": "error",
          "ename": "TypeError",
          "evalue": "'tuple' object does not support item assignment",
          "traceback": [
            "\u001b[0;31m---------------------------------------------------------------------------\u001b[0m",
            "\u001b[0;31mTypeError\u001b[0m                                 Traceback (most recent call last)",
            "\u001b[0;32m<ipython-input-15-35d3f04a2906>\u001b[0m in \u001b[0;36m<cell line: 7>\u001b[0;34m()\u001b[0m\n\u001b[1;32m      5\u001b[0m \u001b[0mmy_list\u001b[0m\u001b[0;34m[\u001b[0m\u001b[0;36m0\u001b[0m\u001b[0;34m]\u001b[0m\u001b[0;34m=\u001b[0m\u001b[0;36m10\u001b[0m\u001b[0;34m\u001b[0m\u001b[0;34m\u001b[0m\u001b[0m\n\u001b[1;32m      6\u001b[0m \u001b[0mprint\u001b[0m\u001b[0;34m(\u001b[0m\u001b[0mmy_list\u001b[0m\u001b[0;34m)\u001b[0m\u001b[0;34m\u001b[0m\u001b[0;34m\u001b[0m\u001b[0m\n\u001b[0;32m----> 7\u001b[0;31m \u001b[0mmy_tuple\u001b[0m\u001b[0;34m[\u001b[0m\u001b[0;36m0\u001b[0m\u001b[0;34m]\u001b[0m\u001b[0;34m=\u001b[0m\u001b[0;36m10\u001b[0m\u001b[0;34m\u001b[0m\u001b[0;34m\u001b[0m\u001b[0m\n\u001b[0m\u001b[1;32m      8\u001b[0m \u001b[0mprint\u001b[0m\u001b[0;34m(\u001b[0m\u001b[0mmy_tuple\u001b[0m\u001b[0;34m)\u001b[0m\u001b[0;34m\u001b[0m\u001b[0;34m\u001b[0m\u001b[0m\n",
            "\u001b[0;31mTypeError\u001b[0m: 'tuple' object does not support item assignment"
          ]
        }
      ]
    },
    {
      "cell_type": "code",
      "source": [
        "#Write a function to demonstrate the behavior of mutable and immutable arguments.\n"
      ],
      "metadata": {
        "id": "o9ogjdNspCeO"
      },
      "execution_count": null,
      "outputs": []
    },
    {
      "cell_type": "code",
      "source": [
        "#Write a program to demonstrate the use of logical operators\n",
        "x=26\n",
        "if (x>2 and x<15):\n",
        "  print(\"true\")\n",
        "else:\n",
        "  print(\"false\")\n",
        "#or\n",
        "x=12\n",
        "if(x>6 or x<89):\n",
        "  print(\"true\")\n",
        "else:\n",
        "  print(\"false\")\n",
        "#not\n",
        "x=45\n",
        "if(not(x<34 and x<45)):\n",
        "  print(\"true\")\n",
        "else:\n",
        "  print(\"false\")"
      ],
      "metadata": {
        "colab": {
          "base_uri": "https://localhost:8080/"
        },
        "id": "DrgciWJktSmN",
        "outputId": "802de06a-59b5-49fa-a613-aebce4d993e9"
      },
      "execution_count": null,
      "outputs": [
        {
          "output_type": "stream",
          "name": "stdout",
          "text": [
            "false\n",
            "true\n",
            "true\n"
          ]
        }
      ]
    },
    {
      "cell_type": "code",
      "source": [
        "#Write a Python program to convert user input from string to integer, float, and boolean types\n",
        "#string to integer\n",
        "a=input(\"enter the value \")\n",
        "b=int(a)\n",
        "print(b)\n",
        "#string to float\n",
        "a=input(\"enter the value \")\n",
        "b=float(a)\n",
        "print(b)\n",
        "#string to boolean\n",
        "a=input(\"enter the value \")\n",
        "b=bool(a)\n",
        "print(b)\n",
        "\n"
      ],
      "metadata": {
        "colab": {
          "base_uri": "https://localhost:8080/"
        },
        "id": "DTEkkes34ldI",
        "outputId": "dcc18a1a-dc77-47ce-e0de-f9b6f5429860"
      },
      "execution_count": null,
      "outputs": [
        {
          "output_type": "stream",
          "name": "stdout",
          "text": [
            "enter the value 45\n",
            "45\n",
            "enter the value 34\n",
            "34.0\n",
            "enter the value 65\n",
            "True\n"
          ]
        }
      ]
    },
    {
      "cell_type": "code",
      "source": [
        "# Write code to demonstrate type casting with list elements.\n",
        "a=[1,2,3,4,5,6]\n",
        "b=tuple(a)\n",
        "print(b)"
      ],
      "metadata": {
        "colab": {
          "base_uri": "https://localhost:8080/"
        },
        "id": "jC_S3hUs75_6",
        "outputId": "26c597be-99fb-4a5d-ece0-600057ce072a"
      },
      "execution_count": null,
      "outputs": [
        {
          "output_type": "stream",
          "name": "stdout",
          "text": [
            "(1, 2, 3, 4, 5, 6)\n"
          ]
        }
      ]
    },
    {
      "cell_type": "code",
      "source": [
        "#Write a program that checks if a number is positive, negative, or zero\n",
        "x=int(input(\"enter the number\"))\n",
        "if(x>0):\n",
        "   print(\"the number is positve\")\n",
        "if(x<0):\n",
        "    print(\"the number is negative\")\n",
        "else:\n",
        "   print(\"the number is zero\")"
      ],
      "metadata": {
        "colab": {
          "base_uri": "https://localhost:8080/"
        },
        "id": "hRKDEnRF-m-l",
        "outputId": "7aebb693-bd57-41b6-8467-4841e1e66010"
      },
      "execution_count": null,
      "outputs": [
        {
          "output_type": "stream",
          "name": "stdout",
          "text": [
            "enter the number67\n",
            "the number is positve\n",
            "the number is zero\n"
          ]
        }
      ]
    },
    {
      "cell_type": "code",
      "source": [
        "#write a loop to print numbers from 1 to 10\n",
        "for i in range(1,11):\n",
        "  print(i)"
      ],
      "metadata": {
        "id": "ZJ4AWWFvB9xZ",
        "colab": {
          "base_uri": "https://localhost:8080/"
        },
        "outputId": "e536a426-836b-42e7-f9fe-8eb25bd0b326"
      },
      "execution_count": 1,
      "outputs": [
        {
          "output_type": "stream",
          "name": "stdout",
          "text": [
            "1\n",
            "2\n",
            "3\n",
            "4\n",
            "5\n",
            "6\n",
            "7\n",
            "8\n",
            "9\n",
            "10\n"
          ]
        }
      ]
    },
    {
      "cell_type": "code",
      "source": [
        "#write a python program to find the sum of all even number from 1 to 50.\n",
        "for i in range(0,51):\n",
        "  if(i%2==0):\n",
        "    i=i+i\n",
        "    print(i)"
      ],
      "metadata": {
        "colab": {
          "base_uri": "https://localhost:8080/"
        },
        "id": "v2z9_bmDhs3J",
        "outputId": "59ed75fe-a630-4e15-8c11-100b3c9c09ec"
      },
      "execution_count": 7,
      "outputs": [
        {
          "output_type": "stream",
          "name": "stdout",
          "text": [
            "0\n",
            "4\n",
            "8\n",
            "12\n",
            "16\n",
            "20\n",
            "24\n",
            "28\n",
            "32\n",
            "36\n",
            "40\n",
            "44\n",
            "48\n",
            "52\n",
            "56\n",
            "60\n",
            "64\n",
            "68\n",
            "72\n",
            "76\n",
            "80\n",
            "84\n",
            "88\n",
            "92\n",
            "96\n",
            "100\n"
          ]
        }
      ]
    },
    {
      "cell_type": "code",
      "source": [
        "#write a program to reverse a string using a while loop\n",
        "string=\"my name is khan\"\n",
        "string=string[::-1]\n",
        "print(string)"
      ],
      "metadata": {
        "colab": {
          "base_uri": "https://localhost:8080/"
        },
        "id": "jBJ2xBm4i6Wo",
        "outputId": "517845d9-dd1a-4052-dd02-1ac4a0eace36"
      },
      "execution_count": 8,
      "outputs": [
        {
          "output_type": "stream",
          "name": "stdout",
          "text": [
            "nahk si eman ym\n"
          ]
        }
      ]
    },
    {
      "cell_type": "code",
      "source": [
        "#write a python program to calcuatw the factorial of a number provided by the user using a while loop\n",
        "num=int(input(\"enter the numberc \"))\n",
        "fact=1\n",
        "while(num>0):\n",
        "  fact=fact*num\n",
        "  num=num-1\n",
        "  print(fact)"
      ],
      "metadata": {
        "colab": {
          "base_uri": "https://localhost:8080/"
        },
        "id": "8Ectx97hjo6G",
        "outputId": "a0feb95f-fe5c-462a-aaa9-6771cafa79c0"
      },
      "execution_count": 11,
      "outputs": [
        {
          "output_type": "stream",
          "name": "stdout",
          "text": [
            "enter the numberc 4\n",
            "4\n",
            "12\n",
            "24\n",
            "24\n"
          ]
        }
      ]
    },
    {
      "cell_type": "code",
      "source": [],
      "metadata": {
        "id": "rvwuThoikmvV"
      },
      "execution_count": null,
      "outputs": []
    }
  ]
}